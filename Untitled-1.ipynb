{
 "cells": [
  {
   "cell_type": "code",
   "execution_count": 1,
   "metadata": {},
   "outputs": [
    {
     "name": "stdout",
     "output_type": "stream",
     "text": [
      "Hello from Binder!\n",
      "Your first number is:  1\n",
      "Your second number is:  2\n",
      "The result of number 1+ number 2 is:  3\n"
     ]
    }
   ],
   "source": [
    "print(\"Hello from Binder!\")\n",
    "\n",
    "number1 = input(\"Type your first number: \")\n",
    "print(\"Your first number is: \", number1)\n",
    "\n",
    "number2 = input(\"Type your second number: \")\n",
    "print(\"Your second number is: \", number2)\n",
    "\n",
    "sum1 = int(number1) + int(number2)\n",
    "print(\"The result of number 1+ number 2 is: \",sum1)\n"
   ]
  }
 ],
 "metadata": {
  "kernelspec": {
   "display_name": "Python 3.10.5 64-bit",
   "language": "python",
   "name": "python3"
  },
  "language_info": {
   "codemirror_mode": {
    "name": "ipython",
    "version": 3
   },
   "file_extension": ".py",
   "mimetype": "text/x-python",
   "name": "python",
   "nbconvert_exporter": "python",
   "pygments_lexer": "ipython3",
   "version": "3.10.5"
  },
  "orig_nbformat": 4,
  "vscode": {
   "interpreter": {
    "hash": "6d78b2e01af9dba65f1604fa9a2b42f5e6de08db564a21e712599767103261f4"
   }
  }
 },
 "nbformat": 4,
 "nbformat_minor": 2
}
